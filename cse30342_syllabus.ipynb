{
 "cells": [
  {
   "cell_type": "markdown",
   "id": "3c9aadd0",
   "metadata": {},
   "source": [
    "## <center>Welcome to CSE 40462/60462 - VLSI System Design</center>"
   ]
  },
  {
   "cell_type": "markdown",
   "id": "6548de83",
   "metadata": {},
   "source": [
    "![](https://imgs.xkcd.com/comics/shouldnt_be_hard.png)"
   ]
  },
  {
   "cell_type": "markdown",
   "id": "cba8dab5",
   "metadata": {},
   "source": [
    "### Professor:\n",
    "\n",
    "|Name|Email|Office Location|Office Hours|\n",
    "|:---|:---|:---|:---|\n",
    "|Prof. Matthew Morrison|matt.morrison@nd.edu|178 Fitzpatrick Hall|M-Th 11am-12pm|\n",
    "\n",
    "### Teaching Assistants:\n",
    "\n",
    "><b>Note:</b> TA office hours start due Week 2 of the course.\n",
    "\n",
    "|Name|Email|Office Hours Location|Office Hours|\n",
    "|:---|:---|:---|:---|\n",
    "|Lindsay Falk|lfalk2@nd.edu|Cushing 217|Th 7:30-9pm|\n",
    "|David Finnell|dfinnell@nd.edu|Cushing 217|Th 1-3pm|\n",
    "|Ethan Lau|elau@nd.edu|TBD|TBD|\n",
    "|Drew Lair|dlair@nd.edu|TBD|TBD|\n",
    "|Dani Nah|hnah@nd.edu|TBD|TBD|\n",
    "|Richard McManus|rmcmanu2@nd.edu|TBD|TBD|\n",
    "|Mike Slusarczyk|mslusarc@nd.edu|TBD|TBD|\n",
    "|Zack Tyler|msilvest@nd.edu|TBD|TBD|\n",
    "\n",
    "### Class Time and Location\n",
    "\n",
    "|Meeting Days|Time|Class Location|\n",
    "|:---|:---|:---|\n",
    "|M W F|12:50pm - 1:40pm|Nieuwland Science Hall 184|\n",
    "\n",
    "### Additional Links\n",
    "\n",
    "<b>Course Slack</b>: https://app.slack.com/client/T0HJVP8MS/C05NLA55RJ7\n",
    "\n",
    "<b>Prof Morrison's LinkedIn Page</b>: https://www.linkedin.com/in/gregariousmatt/\n",
    "<ul><li>I regularly post job and internship opportunities for my students on LinkedIn</li></ul>"
   ]
  },
  {
   "cell_type": "markdown",
   "id": "365cd397",
   "metadata": {},
   "source": [
    "### Course Overview\n",
    "\n",
    "The CSE 30342 Digital Integrated Circuits will introduce the student to the design of digital systems when fabricated out of modern Complementary Metal Oxide Semiconductor (CMOS) technology.\n",
    "\n",
    "At the completion of this course, a student will be to able to:\n",
    "<ul>\n",
    "    <li><b>Design</b> basic digital CMOS circuits</li>\n",
    "<li><b>Estimate</b> and <b>predict</b> key system characteristics such as area, speed, and power as a function of technology</li>\n",
    "<li><b>Understand</b> various design methodologies (such as custom, semi-custom, standard cell, and gate array) that incorporate such circuits into bigger digital systems.</li>\n",
    "\n",
    "</ul>"
   ]
  },
  {
   "cell_type": "markdown",
   "id": "41d86506",
   "metadata": {},
   "source": [
    "### Course Objectives\n",
    "\n",
    "Upon completion of the course, students shall be able to demonstrate the ability to:\n",
    "<ol>\n",
    "    <li>Demonstrate a <b>basic working knowledge</b> of VLSI systems, through homework and short projects of a set of topics.</li>\n",
    "<li>Articulate the big picture encompassing various facets of the <b>digital integrated circuit design</b> and <b>manufacturing process</b>.</li>\n",
    "    <li>Show a working knowledge of <b>future trends in silicon</b> and quickly estimate how <b>area, speed, and power</b> of CMOS digital systems will change as technology shrinks.</li>\n",
    "</ol>"
   ]
  },
  {
   "cell_type": "markdown",
   "id": "b78dc4e9",
   "metadata": {},
   "source": [
    "### Required Textbook\n",
    "\n",
    "<img style=\"float: left;\" src=\"https://m.media-amazon.com/images/I/61f+DG1jQ-L._SY344_BO1,204,203,200_.jpg\" width=100 height=150>\n",
    "<br><b>The Soul of a New Machine</b><br>\n",
    "Author: Tracy Kidder<br>\n",
    "ISBN-13: 978-0316491976<br>\n",
    "<a href = \"https://www.amazon.com/Soul-New-Machine-Tracy-Kidder/dp/0316491977/ref=asc_df_0316491977/?tag=hyprod-20&linkCode=df0&hvadid=312125971120&hvpos=&hvnetw=g&hvrand=2512545908334015006&hvpone=&hvptwo=&hvqmt=&hvdev=c&hvdvcmdl=&hvlocint=&hvlocphy=9016280&hvtargid=pla-435502139488&psc=1&tag=&ref=&adgrpid=61316180839&hvpone=&hvptwo=&hvadid=312125971120&hvpos=&hvnetw=g&hvrand=2512545908334015006&hvqmt=&hvdev=c&hvdvcmdl=&hvlocint=&hvlocphy=9016280&hvtargid=pla-435502139488\">Amazon Search</a><br>"
   ]
  },
  {
   "cell_type": "markdown",
   "id": "06be5169",
   "metadata": {},
   "source": [
    "### Recommended Textbooks\n",
    "\n",
    ">A \"recommended\" textbook is one that a student who is interested in pursuing Digital Design as a potential career would greatly benefit from owning. You will be able to earn an A in this course without purchasing these textbook.\n",
    "\n"
   ]
  },
  {
   "cell_type": "markdown",
   "id": "2792d1f6",
   "metadata": {},
   "source": [
    "### Resources\n",
    "\n",
    "RISC-V Green Card\n",
    "61C Reference\n",
    "IEEE 1364-2005 Verilog-Standard\n",
    "EECS151 Register Library\n",
    "Online Verilog Simulator (edaplayground)\n",
    "LTspice Tutorial"
   ]
  }
 ],
 "metadata": {
  "kernelspec": {
   "display_name": "Python 3 (ipykernel)",
   "language": "python",
   "name": "python3"
  },
  "language_info": {
   "codemirror_mode": {
    "name": "ipython",
    "version": 3
   },
   "file_extension": ".py",
   "mimetype": "text/x-python",
   "name": "python",
   "nbconvert_exporter": "python",
   "pygments_lexer": "ipython3",
   "version": "3.9.13"
  }
 },
 "nbformat": 4,
 "nbformat_minor": 5
}
