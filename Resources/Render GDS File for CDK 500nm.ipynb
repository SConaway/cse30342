{
 "cells": [
  {
   "cell_type": "markdown",
   "id": "efc65043",
   "metadata": {},
   "source": [
    "### Render Notre Dame GDS File Example"
   ]
  },
  {
   "cell_type": "markdown",
   "id": "88ba7d0c",
   "metadata": {},
   "source": [
    "### First, run the installation for either Windows or Mac\n",
    "If Jupyter Notebooks is not installed, run the <a href = \"https://canvas.nd.edu/courses/53612/pages/lab-01-hardware-programming\">Activity 0 for Lab 1</a> from the CSE 10001 Principles \n",
    "\n",
    "### This code assumes you have successfully run the following installations in the Anaconda3 prompt:\n",
    "<code>pip install numpy</code><br>\n",
    "<code>pip install gdspy</code><br>\n",
    "<code>pip install numpy-stl</code><br>\n",
    "<code>pip install triangle</code><br>\n",
    "<code>pip install k3d</code><br>\n",
    "\n",
    "The versions used in this installation were <code>gdspy-1.6.13</code>, <code>numpy-stl-3.0.1</code>, <code>python-utils-3.5.2</code>, <code>triangle-20220202</code>, and <code>k3d-2.15.2</code>.<br>\n",
    "\n",
    "Next, I ran the <code>jupyter notebook</code> command from the Anaconda prompt"
   ]
  },
  {
   "cell_type": "code",
   "execution_count": 1,
   "id": "83ce7aba",
   "metadata": {},
   "outputs": [],
   "source": [
    "# Require to read files through Jupyter Notebooks\n",
    "import os\n",
    "\n",
    "# gdspy is used to open the gds file\n",
    "import gdspy\n",
    "\n",
    "# Used to write the output stl file (Why we installed numpy-stl)\n",
    "from stl import mesh\n",
    "\n",
    "# Using numpy will permit fast calculations on lots of points\n",
    "import numpy as np\n",
    "import matplotlib\n",
    "\n",
    "# Required to triangulate polygons\n",
    "import triangle\n",
    "\n",
    "# To render in 3d\n",
    "import k3d"
   ]
  },
  {
   "cell_type": "code",
   "execution_count": 2,
   "id": "2296a822",
   "metadata": {
    "scrolled": true
   },
   "outputs": [
    {
     "name": "stdout",
     "output_type": "stream",
     "text": [
      "Input gds file name: VLSI-GDS\\inverter.gds\n"
     ]
    }
   ],
   "source": [
    "# Read the file name for the GDS file \n",
    "gdsii_file_path = input('Input gds file name: ')"
   ]
  },
  {
   "cell_type": "markdown",
   "id": "36ba11d4",
   "metadata": {},
   "source": [
    "#### The layerstack sizes are based on the Process Stack Diagram from the <a href = \"https://web.archive.org/web/20210417053747/https://www.eda.ncsu.edu/wiki/NCSU_CDK_documentation\">NCSU CDK documentation</a>.\n",
    "\n",
    "In the stream4gds.map file, the following table was produced which correlates the layernumber with the datatype. In the CDK, all datatypes are 0, which is not the case for subsequent PDKs:<br>\n",
    "<code>Cadence layer     Cadence layer purpose       GDSII layer</code><br>\n",
    "<code>-------------     ---------------------       -----------</code><br>\n",
    "<code>nwell               drawing                     42  0\n",
    "pwell               drawing                     41  0\n",
    "active              drawing                     43  0\n",
    "nactive\t\t     drawing\t\t   \t       43  0\n",
    "pactive\t         drawing\t\t \t       43  0\n",
    "nselect             drawing                     45  0\n",
    "pselect             drawing                     44  0\n",
    "poly                drawing                     46  0\n",
    "poly                pin                         46  0\n",
    "elec                drawing                     56  0\n",
    "metal1              drawing                     49  0\n",
    "metal2              drawing                     51  0\n",
    "metal3              drawing                     62  0\n",
    "metal1              pin\t                        49  0\n",
    "metal2              pin                         51  0\n",
    "metal3              pin                         62  0\n",
    "cc                  drawing                     25  0\n",
    "ca                  drawing                     25  0\n",
    "cp                  drawing                     25  0\n",
    "ce                  drawing                     25  0\n",
    "via                 drawing                     50  0\n",
    "via2                drawing                     61  0\n",
    "glass               drawing                     52  0\n",
    "pad                 drawing                     26  0\n",
    "highres             drawing                     34  0\n",
    "res_id              drawing                     34  0</code>\n",
    "</code>"
   ]
  },
  {
   "cell_type": "code",
   "execution_count": 3,
   "id": "ce55588b",
   "metadata": {},
   "outputs": [],
   "source": [
    "# choose which GDSII layers to use\n",
    "# Version for Cadence CDK 0.5u\n",
    "# Based on the stream4dgs.map file\n",
    "layerstack = {\n",
    "    # (layernumber, datatype) : (zmin, zmax, 'layername'),\n",
    "    (25,0): (-0.20, 1.8, 'cc'),\n",
    "    (26,0): (-0.20, 0, 'pad'),\n",
    "    (41,0): (-0.16, 0.0, 'pwell'),\n",
    "    (42,0): (-0.16, 0.0, 'nwell'),\n",
    "    (43,0): (-0.14, 0.2, 'nactive'),\n",
    "    (43,0): (-0.14, 0.2, 'pactive'),\n",
    "    (44,0): (-0.12, 0.1, 'nselect'),\n",
    "    (45,0): (-0.12, 0.1, 'pselect'),\n",
    "    (46,0): (0.02, 0.4, 'poly'),\n",
    "    (49,0): (1.3761, 1.7361, 'metal1'),    \n",
    "    (50,0): (1.7361, 2.37, 'via'),    \n",
    "    (51,0): (2.0061, 2.3661, 'metal2'),\n",
    "    (52,0): (2.0061, 2.3661, 'glass'), \n",
    "    (61,0): (2.3661, 2.7861, 'via2'),    \n",
    "    (62,0): (2.7861, 3.6311, 'metal3'), \n",
    "    (232, 0): (0, 1, 'text'),\n",
    "}"
   ]
  },
  {
   "cell_type": "code",
   "execution_count": 4,
   "id": "ce7b1a06",
   "metadata": {
    "scrolled": true
   },
   "outputs": [
    {
     "name": "stdout",
     "output_type": "stream",
     "text": [
      "Reading GDSII file VLSI-GDS\\inverter.gds...\n",
      "Extracting polygons...\n",
      "Extraction complete.\n"
     ]
    }
   ],
   "source": [
    "print('Reading GDSII file {}...'.format(gdsii_file_path))\n",
    "gdsii = gdspy.GdsLibrary()\n",
    "gdsii.read_gds(gdsii_file_path, units='import')\n",
    "\n",
    "print('Extracting polygons...')\n",
    "layers = {} # array to hold all geometry, sorted into layers\n",
    "\n",
    "cells = gdsii.top_level() # get all cells that aren't referenced by another\n",
    "for cell in cells: # loop through cells to read paths and polygons\n",
    "\n",
    "    # $$$CONTEXT_INFO$$$ is a separate, non-standard compliant cell added\n",
    "    # optionally by KLayout to store extra information not needed here.\n",
    "    # see https://www.klayout.de/forum/discussion/1026/very-\n",
    "    # important-gds-exported-from-k-layout-not-working-on-cadence-at-foundry\n",
    "    if cell.name == '$$$CONTEXT_INFO$$$':\n",
    "        continue # skip this cell\n",
    "\n",
    "    # combine will all referenced cells (instances, SREFs, AREFs, etc.)\n",
    "    cell = cell.flatten()\n",
    "\n",
    "    # loop through paths in cell\n",
    "    for path in cell.paths:\n",
    "        \n",
    "        # GDSII layer number\n",
    "        lnum = (path.layers[0],path.datatypes[0])\n",
    "        \n",
    "        # create empty array to hold layer polygons if it doesn't yet exist\n",
    "        layers[lnum] = [] if not lnum in layers else layers[lnum]\n",
    "        \n",
    "        # add paths (converted to polygons) that layer\n",
    "        for poly in path.get_polygons():\n",
    "            layers[lnum].append((poly, None, False))\n",
    "\n",
    "    # loop through polygons (and boxes) in cell\n",
    "    for polygon in cell.polygons:\n",
    "        lnum = (polygon.layers[0],polygon.datatypes[0]) # same as before...\n",
    "        layers[lnum] = [] if not lnum in layers else layers[lnum]\n",
    "        for poly in polygon.polygons:\n",
    "            layers[lnum].append((poly, None, False))\n",
    "            \n",
    "print('Extraction complete.')"
   ]
  },
  {
   "cell_type": "code",
   "execution_count": 5,
   "id": "27299558",
   "metadata": {},
   "outputs": [
    {
     "name": "stdout",
     "output_type": "stream",
     "text": [
      "Number of layers: 7\n",
      "Layer Name: (49, 0)\n",
      "Layer Name: (46, 0)\n",
      "Layer Name: (25, 0)\n",
      "Layer Name: (43, 0)\n",
      "Layer Name: (45, 0)\n",
      "Layer Name: (42, 0)\n",
      "Layer Name: (44, 0)\n",
      "\n",
      "Cell Name: inverter\n",
      "Number of paths in inverter: 0\n",
      "Number of polygons in inverter: 45\n"
     ]
    }
   ],
   "source": [
    "# Get polygon data\n",
    "print('Number of layers: ' + str(len(layers)))\n",
    "\n",
    "# Print all the layer information\n",
    "for curr_layer in layers:\n",
    "    print( 'Layer Name: ' + str(curr_layer) )\n",
    "    \n",
    "print('')\n",
    "    \n",
    "for cell in cells:\n",
    "    print( 'Cell Name: ' + str(cell.name) )\n",
    "    print( 'Number of paths in ' + str(cell.name) + ': ' + str( len(cell.paths) ) )\n",
    "    print( 'Number of polygons in ' + str(cell.name) + ': ' + str( len(cell.polygons) ) )"
   ]
  },
  {
   "cell_type": "code",
   "execution_count": 6,
   "id": "92bae21c",
   "metadata": {
    "scrolled": true
   },
   "outputs": [
    {
     "name": "stdout",
     "output_type": "stream",
     "text": [
      "Triangulating polygons...\n",
      "Triangulation complete\n"
     ]
    }
   ],
   "source": [
    "########## TRIANGULATION ######################################################\n",
    "\n",
    "# An STL file is a list of triangles, so the polygons need to be filled with\n",
    "# triangles. \n",
    "# Documentation: https://rufat.be/triangle/\n",
    "# Documentation: https://www.cs.cmu.edu/~quake/triangle.html\n",
    "\n",
    "print('Triangulating polygons...')\n",
    "\n",
    "num_triangles = {} # will store the number of triangles for each layer\n",
    "\n",
    "# loop through all layers\n",
    "for layer_number, polygons in layers.items():\n",
    "\n",
    "    # but skip layer if it won't be exported\n",
    "    if not layer_number in layerstack.keys():\n",
    "        continue\n",
    "\n",
    "    num_triangles[layer_number] = 0\n",
    "\n",
    "    # loop through polygons in layer\n",
    "    for index, (polygon, _, _) in enumerate(polygons):\n",
    "\n",
    "        num_polygon_points = len(polygon)\n",
    "\n",
    "        # determine whether polygon points are CW or CCW\n",
    "        area = 0\n",
    "        for i, v1 in enumerate(polygon): # loop through vertices\n",
    "            v2 = polygon[(i+1) % num_polygon_points]\n",
    "            area += (v2[0]-v1[0])*(v2[1]+v1[1]) # integrate area\n",
    "        clockwise = area > 0\n",
    "\n",
    "        # GDSII implements holes in polygons by making the polygon edge\n",
    "        # wrap into the hole and back out along the same line. However,\n",
    "        # this confuses the triangulation library, which fills the holes\n",
    "        # with extra triangles. Avoid this by moving each edge back a\n",
    "        # very small amount so that no two edges of the same polygon overlap.\n",
    "        delta = 0.00001 # inset each vertex by this much (smaller has broken one file)\n",
    "        \n",
    "        points_i = polygon # get list of points\n",
    "        points_j = np.roll(points_i, -1, axis=0) # shift by 1\n",
    "        points_k = np.roll(points_i, 1, axis=0) # shift by -1\n",
    "        \n",
    "        # calculate normals for each edge of each vertex (in parallel, for speed)\n",
    "        normal_ij = np.stack((points_j[:, 1]-points_i[:, 1], points_i[:, 0]-points_j[:, 0]), axis=1)\n",
    "        normal_ik = np.stack((points_i[:, 1]-points_k[:, 1], points_k[:, 0]-points_i[:, 0]), axis=1)\n",
    "        \n",
    "        length_ij = np.linalg.norm(normal_ij, axis=1)\n",
    "        length_ik = np.linalg.norm(normal_ik, axis=1)\n",
    "        \n",
    "        normal_ij /= np.stack((length_ij, length_ij), axis=1)\n",
    "        normal_ik /= np.stack((length_ik, length_ik), axis=1)\n",
    "        \n",
    "        if clockwise:\n",
    "            normal_ij = -1*normal_ij\n",
    "            normal_ik = -1*normal_ik\n",
    "            \n",
    "        # move each vertex inward along its two edge normals\n",
    "        polygon = points_i - delta*normal_ij - delta*normal_ik\n",
    "\n",
    "        hole_delta = 0.00001 # small fraction of delta\n",
    "        holes = 0.5*(points_j+points_i) - hole_delta*delta*normal_ij\n",
    "        \n",
    "        use_holes = False\n",
    "\n",
    "        # triangulate: compute triangles to fill polygon\n",
    "        point_array = np.arange(num_polygon_points)\n",
    "        edges = np.transpose(np.stack((point_array, np.roll(point_array, 1))))\n",
    "        if use_holes:\n",
    "            triangles = triangle.triangulate(dict(vertices=polygon,\n",
    "                                                  segments=edges,\n",
    "                                                  holes=holes), opts='p')\n",
    "        else:\n",
    "            triangles = triangle.triangulate(dict(vertices=polygon,\n",
    "                                                  segments=edges), opts='p')\n",
    "\n",
    "        if not 'triangles' in triangles.keys():\n",
    "            triangles['triangles'] = []\n",
    "\n",
    "        # each line segment will make two triangles (for a rectangle), and the polygon\n",
    "        # triangulation will be copied on the top and bottom of the layer.\n",
    "        num_triangles[layer_number] += num_polygon_points*2 + \\\n",
    "                                       len(triangles['triangles'])*2\n",
    "        polygons[index] = (polygon, triangles, clockwise)\n",
    "\n",
    "print('Triangulation complete')"
   ]
  },
  {
   "cell_type": "code",
   "execution_count": 7,
   "id": "1da11ce8",
   "metadata": {},
   "outputs": [
    {
     "name": "stdout",
     "output_type": "stream",
     "text": [
      "Number of triangles: 7\n"
     ]
    }
   ],
   "source": [
    "# Get polygon data\n",
    "print('Number of triangles: ' + str(len(num_triangles)))"
   ]
  },
  {
   "cell_type": "code",
   "execution_count": 8,
   "id": "5f6c165b",
   "metadata": {},
   "outputs": [
    {
     "name": "stdout",
     "output_type": "stream",
     "text": [
      "Extruding polygons and writing to files...\n",
      "    ((49, 0), metal1) to VLSI-GDS\\inverter.gds_metal1.stl\n",
      "    ((46, 0), poly) to VLSI-GDS\\inverter.gds_poly.stl\n",
      "    ((25, 0), cc) to VLSI-GDS\\inverter.gds_cc.stl\n",
      "    ((43, 0), pactive) to VLSI-GDS\\inverter.gds_pactive.stl\n",
      "    ((45, 0), pselect) to VLSI-GDS\\inverter.gds_pselect.stl\n",
      "    ((42, 0), nwell) to VLSI-GDS\\inverter.gds_nwell.stl\n",
      "    ((44, 0), nselect) to VLSI-GDS\\inverter.gds_nselect.stl\n",
      "Done.\n"
     ]
    }
   ],
   "source": [
    "########## EXTRUSION ##########################################################\n",
    "\n",
    "# Now that we have polygon boundaries and triangulations, we can write it to an STL file.\n",
    "# Documentation: https://numpy-stl.readthedocs.io/en/latest\n",
    "print('Extruding polygons and writing to files...')\n",
    "\n",
    "# Create empty list of STL file names\n",
    "stl_file_names = []\n",
    "\n",
    "# loop through all layers\n",
    "for layer in layers:\n",
    "\n",
    "    # but skip layer if it won't be exported\n",
    "    if not layer in layerstack.keys():\n",
    "        continue\n",
    "\n",
    "    # Make a list of triangles.\n",
    "    # This data contains vertex xyz position data as follows:\n",
    "    # layer_mesh_data['vectors'] = [ [[x1,y1,z1], [x2,y2,z1], [x3,y3,z3]], ...]\n",
    "    layer_mesh_data = np.zeros(num_triangles[layer], dtype=mesh.Mesh.dtype)\n",
    "\n",
    "    layer_pointer = 0\n",
    "    for index, (polygon, triangles, clockwise) in enumerate(layers[layer]):\n",
    "\n",
    "        # The numpy-stl library expects counterclockwise triangles. That is,\n",
    "        # one side of each triangle is the outside surface of the STL file\n",
    "        # object (assuming a watertight volume), and the other side is the\n",
    "        # inside surface. If looking at a triangle from the outside, the\n",
    "        # vertices should be in counterclockwise order. Failure to do so may\n",
    "        # cause certain STL file display programs to not display the\n",
    "        # triangles correctly (e.g., the backward triangles will be invisible).\n",
    "        \n",
    "        zmin, zmax, layername = layerstack[layer]\n",
    "\n",
    "        # make a list of triangles around the polygon boundary\n",
    "        points_i = polygon # list of 2D vertices\n",
    "        \n",
    "        if clockwise: # order polygon 2D vertices counter-clockwise\n",
    "            points_i = np.flip(polygon, axis=0)\n",
    "            \n",
    "        points_i_min = np.insert(points_i, 2, zmin, axis=1) # bottom left\n",
    "        points_i_max = np.insert(points_i, 2, zmax, axis=1) # top left\n",
    "        points_j_min = np.roll(points_i_min, -1, axis=0) # bottom right\n",
    "        points_j_max = np.roll(points_i_max, -1, axis=0) # top right\n",
    "        \n",
    "        rights = np.stack((points_i_min, points_j_min, points_j_max), axis=1)\n",
    "        lefts = np.stack((points_j_max, points_i_max, points_i_min), axis=1)\n",
    "\n",
    "        # make a list of polygon interior (face) triangles\n",
    "        vs = triangles['vertices']\n",
    "        ts = triangles['triangles']\n",
    "        \n",
    "        if len(ts) > 0:\n",
    "            face_tris = np.take(vs, ts, axis=0)\n",
    "            top = np.insert(face_tris, 2, zmax, axis=2) # list of top triangles\n",
    "            bottom = np.insert(face_tris, 2, zmin, axis=2) # list of bottom ~\n",
    "            bottom = np.flip(bottom, axis=1) # reverse vertex order to make CCW\n",
    "            faces = np.concatenate((lefts, rights, top, bottom), axis=0)\n",
    "            \n",
    "        else: # didn't generate any triangles! (degenerate edge case)\n",
    "            faces = np.concatenate((lefts, rights), axis=0)\n",
    "\n",
    "        # add side and face triangles to layer mesh\n",
    "        layer_mesh_data['vectors'][layer_pointer:(layer_pointer+len(faces))] = faces\n",
    "        layer_pointer += len(faces)\n",
    "\n",
    "    # save layer to STL file\n",
    "    filename = gdsii_file_path + '_{}.stl'.format(layername)\n",
    "    print('    ({}, {}) to {}'.format(layer, layername, filename))\n",
    "    layer_mesh_object = mesh.Mesh(layer_mesh_data, remove_empty_areas=False)\n",
    "    layer_mesh_object.save(filename)\n",
    "    \n",
    "    # Add STL file to list\n",
    "    stl_file_names.append(filename)\n",
    "\n",
    "print('Done.')"
   ]
  },
  {
   "cell_type": "code",
   "execution_count": 9,
   "id": "4f8c4a3a",
   "metadata": {
    "scrolled": false
   },
   "outputs": [
    {
     "data": {
      "application/vnd.jupyter.widget-view+json": {
       "model_id": "4ba5ee5897af4b998f6e82d24376044b",
       "version_major": 2,
       "version_minor": 0
      },
      "text/plain": [
       "Output()"
      ]
     },
     "metadata": {},
     "output_type": "display_data"
    }
   ],
   "source": [
    "# Render layered STL files from Extraction, Triangulation, and Extrusion\n",
    "\n",
    "full_plot = k3d.plot()\n",
    "\n",
    "color = [0xe3dac9, 0xff0000, 0x00ff00, 0x0000ff, 0xff00ff, 0x00ffff, 0xffff00, 0x330000, 0x003300, 0x000033, 0x330033, 0x333300, 0x003333, 0x990000, 0x009900, 0x000099, 0x990099, 0x999900, 0x009999]\n",
    "\n",
    "for i in range(len(stl_file_names)):\n",
    "\n",
    "    with open(stl_file_names[i], 'rb') as stl:\n",
    "        data = stl.read()\n",
    "\n",
    "    plt_skull = k3d.stl(data, color[i])\n",
    "\n",
    "    full_plot += plt_skull\n",
    "\n",
    "full_plot.display()"
   ]
  },
  {
   "cell_type": "code",
   "execution_count": null,
   "id": "71b2f6ec",
   "metadata": {},
   "outputs": [],
   "source": []
  }
 ],
 "metadata": {
  "kernelspec": {
   "display_name": "Python 3 (ipykernel)",
   "language": "python",
   "name": "python3"
  },
  "language_info": {
   "codemirror_mode": {
    "name": "ipython",
    "version": 3
   },
   "file_extension": ".py",
   "mimetype": "text/x-python",
   "name": "python",
   "nbconvert_exporter": "python",
   "pygments_lexer": "ipython3",
   "version": "3.9.13"
  }
 },
 "nbformat": 4,
 "nbformat_minor": 5
}
